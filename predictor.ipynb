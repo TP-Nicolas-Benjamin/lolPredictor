{
 "cells": [
  {
   "cell_type": "markdown",
   "id": "32c7581d",
   "metadata": {},
   "source": [
    "# LoL Predictor\n",
    "\n",
    "## Dataset\n",
    "\n",
    "> Le set de donnée que nous avons choisi est [League Of Legends High Elo Ranked Games](https://www.kaggle.com/gyejr95/league-of-legends-challenger-ranked-games2020). \n",
    "\n",
    "> Ce set de donnée représente les données de 26 000 parties des meilleurs joueurs (Challenger) de League Of Legends, 65 000 parties des 2nds meilleurs (Grand Master) joueurs et 100 000 parties des 3ème meilleurs (Master).\n",
    "\n",
    "> League Of Legends est un jeu de 5vs5 consistant à détruire la base de l'autre en contrôlant des champions qui sont choisis avant le début de la partie. En éliminant les joueurs adverses ou minions/objectifs, les joueurs remportent de l'expérience leur permettant d'augmenter de niveau et aussi de l'argent ce qui leur permet d'acheter de l'équipement.\n",
    "\n",
    "> En accomplissant des objectifs, une équipe a plus de chance de gagner la partie. \n",
    "\n",
    "> Nous allons essayer de prédire si une équipe va gagner en fonction de son état dans la partie.\n",
    "\n",
    "## Data\n",
    "\n",
    "> Une ligne de données est composé en deux parties : \n",
    "\n",
    "* Equipe bleu\n",
    "* Equipe rouge\n",
    "\n",
    "> Ces deux ensembles sont composés des mêmes colonnes, plus loin nous étudierons seulement l'équipe bleu."
   ]
  },
  {
   "cell_type": "code",
   "execution_count": 1,
   "id": "f9920fbf",
   "metadata": {},
   "outputs": [],
   "source": [
    "import numpy as np\n",
    "import pandas as pd\n",
    "from sklearn.datasets import fetch_openml\n",
    "from sklearn.model_selection import train_test_split\n",
    "from sklearn.pipeline import make_pipeline\n",
    "from sklearn.preprocessing import StandardScaler\n",
    "from sklearn.linear_model import LogisticRegression\n",
    "from sklearn.ensemble import RandomForestClassifier\n",
    "from sklearn.metrics import precision_score, classification_report\n",
    "\n",
    "import seaborn as sns\n",
    "import matplotlib as mpl\n",
    "import matplotlib . pyplot as plt\n",
    "\n",
    "import pprint\n",
    "import functools"
   ]
  },
  {
   "cell_type": "code",
   "execution_count": 2,
   "id": "67f9f28d",
   "metadata": {
    "scrolled": false
   },
   "outputs": [
    {
     "name": "stdout",
     "output_type": "stream",
     "text": [
      "Length of master data : 107125\n",
      "Length of grand_master data : 65896\n",
      "Length of challenger data : 26904\n",
      "Length of merged data : 199925\n"
     ]
    },
    {
     "data": {
      "text/html": [
       "<div>\n",
       "<style scoped>\n",
       "    .dataframe tbody tr th:only-of-type {\n",
       "        vertical-align: middle;\n",
       "    }\n",
       "\n",
       "    .dataframe tbody tr th {\n",
       "        vertical-align: top;\n",
       "    }\n",
       "\n",
       "    .dataframe thead th {\n",
       "        text-align: right;\n",
       "    }\n",
       "</style>\n",
       "<table border=\"1\" class=\"dataframe\">\n",
       "  <thead>\n",
       "    <tr style=\"text-align: right;\">\n",
       "      <th></th>\n",
       "      <th>gameId</th>\n",
       "      <th>gameDuraton</th>\n",
       "      <th>blueWins</th>\n",
       "      <th>blueFirstBlood</th>\n",
       "      <th>blueFirstTower</th>\n",
       "      <th>blueFirstBaron</th>\n",
       "      <th>blueFirstDragon</th>\n",
       "      <th>blueFirstInhibitor</th>\n",
       "      <th>blueDragonKills</th>\n",
       "      <th>blueBaronKills</th>\n",
       "      <th>...</th>\n",
       "      <th>redChampionDamageDealt</th>\n",
       "      <th>redTotalGold</th>\n",
       "      <th>redTotalMinionKills</th>\n",
       "      <th>redTotalLevel</th>\n",
       "      <th>redAvgLevel</th>\n",
       "      <th>redJungleMinionKills</th>\n",
       "      <th>redKillingSpree</th>\n",
       "      <th>redTotalHeal</th>\n",
       "      <th>redObjectDamageDealt</th>\n",
       "      <th>rank</th>\n",
       "    </tr>\n",
       "  </thead>\n",
       "  <tbody>\n",
       "    <tr>\n",
       "      <th>0</th>\n",
       "      <td>4227123625</td>\n",
       "      <td>1429</td>\n",
       "      <td>0</td>\n",
       "      <td>1</td>\n",
       "      <td>1</td>\n",
       "      <td>0</td>\n",
       "      <td>0</td>\n",
       "      <td>0</td>\n",
       "      <td>0</td>\n",
       "      <td>0</td>\n",
       "      <td>...</td>\n",
       "      <td>53831</td>\n",
       "      <td>41991</td>\n",
       "      <td>609</td>\n",
       "      <td>64</td>\n",
       "      <td>12.8</td>\n",
       "      <td>127</td>\n",
       "      <td>4</td>\n",
       "      <td>12916</td>\n",
       "      <td>26338</td>\n",
       "      <td>master</td>\n",
       "    </tr>\n",
       "    <tr>\n",
       "      <th>1</th>\n",
       "      <td>4219545724</td>\n",
       "      <td>1313</td>\n",
       "      <td>0</td>\n",
       "      <td>0</td>\n",
       "      <td>1</td>\n",
       "      <td>0</td>\n",
       "      <td>0</td>\n",
       "      <td>0</td>\n",
       "      <td>0</td>\n",
       "      <td>0</td>\n",
       "      <td>...</td>\n",
       "      <td>52924</td>\n",
       "      <td>39672</td>\n",
       "      <td>510</td>\n",
       "      <td>63</td>\n",
       "      <td>12.6</td>\n",
       "      <td>133</td>\n",
       "      <td>4</td>\n",
       "      <td>12252</td>\n",
       "      <td>29828</td>\n",
       "      <td>master</td>\n",
       "    </tr>\n",
       "    <tr>\n",
       "      <th>2</th>\n",
       "      <td>4219463634</td>\n",
       "      <td>1660</td>\n",
       "      <td>1</td>\n",
       "      <td>0</td>\n",
       "      <td>0</td>\n",
       "      <td>1</td>\n",
       "      <td>1</td>\n",
       "      <td>1</td>\n",
       "      <td>1</td>\n",
       "      <td>1</td>\n",
       "      <td>...</td>\n",
       "      <td>61745</td>\n",
       "      <td>46516</td>\n",
       "      <td>630</td>\n",
       "      <td>65</td>\n",
       "      <td>13.0</td>\n",
       "      <td>153</td>\n",
       "      <td>2</td>\n",
       "      <td>17005</td>\n",
       "      <td>37066</td>\n",
       "      <td>master</td>\n",
       "    </tr>\n",
       "    <tr>\n",
       "      <th>3</th>\n",
       "      <td>4205778093</td>\n",
       "      <td>984</td>\n",
       "      <td>1</td>\n",
       "      <td>1</td>\n",
       "      <td>1</td>\n",
       "      <td>0</td>\n",
       "      <td>1</td>\n",
       "      <td>0</td>\n",
       "      <td>2</td>\n",
       "      <td>0</td>\n",
       "      <td>...</td>\n",
       "      <td>25007</td>\n",
       "      <td>21444</td>\n",
       "      <td>304</td>\n",
       "      <td>41</td>\n",
       "      <td>8.2</td>\n",
       "      <td>51</td>\n",
       "      <td>1</td>\n",
       "      <td>10499</td>\n",
       "      <td>3085</td>\n",
       "      <td>master</td>\n",
       "    </tr>\n",
       "    <tr>\n",
       "      <th>4</th>\n",
       "      <td>4201063474</td>\n",
       "      <td>1437</td>\n",
       "      <td>0</td>\n",
       "      <td>1</td>\n",
       "      <td>1</td>\n",
       "      <td>0</td>\n",
       "      <td>1</td>\n",
       "      <td>0</td>\n",
       "      <td>2</td>\n",
       "      <td>0</td>\n",
       "      <td>...</td>\n",
       "      <td>71794</td>\n",
       "      <td>45798</td>\n",
       "      <td>565</td>\n",
       "      <td>68</td>\n",
       "      <td>13.6</td>\n",
       "      <td>150</td>\n",
       "      <td>7</td>\n",
       "      <td>47523</td>\n",
       "      <td>47150</td>\n",
       "      <td>master</td>\n",
       "    </tr>\n",
       "  </tbody>\n",
       "</table>\n",
       "<p>5 rows × 51 columns</p>\n",
       "</div>"
      ],
      "text/plain": [
       "       gameId  gameDuraton  blueWins  blueFirstBlood  blueFirstTower  \\\n",
       "0  4227123625         1429         0               1               1   \n",
       "1  4219545724         1313         0               0               1   \n",
       "2  4219463634         1660         1               0               0   \n",
       "3  4205778093          984         1               1               1   \n",
       "4  4201063474         1437         0               1               1   \n",
       "\n",
       "   blueFirstBaron  blueFirstDragon  blueFirstInhibitor  blueDragonKills  \\\n",
       "0               0                0                   0                0   \n",
       "1               0                0                   0                0   \n",
       "2               1                1                   1                1   \n",
       "3               0                1                   0                2   \n",
       "4               0                1                   0                2   \n",
       "\n",
       "   blueBaronKills  ...  redChampionDamageDealt  redTotalGold  \\\n",
       "0               0  ...                   53831         41991   \n",
       "1               0  ...                   52924         39672   \n",
       "2               1  ...                   61745         46516   \n",
       "3               0  ...                   25007         21444   \n",
       "4               0  ...                   71794         45798   \n",
       "\n",
       "   redTotalMinionKills  redTotalLevel  redAvgLevel  redJungleMinionKills  \\\n",
       "0                  609             64         12.8                   127   \n",
       "1                  510             63         12.6                   133   \n",
       "2                  630             65         13.0                   153   \n",
       "3                  304             41          8.2                    51   \n",
       "4                  565             68         13.6                   150   \n",
       "\n",
       "   redKillingSpree  redTotalHeal  redObjectDamageDealt    rank  \n",
       "0                4         12916                 26338  master  \n",
       "1                4         12252                 29828  master  \n",
       "2                2         17005                 37066  master  \n",
       "3                1         10499                  3085  master  \n",
       "4                7         47523                 47150  master  \n",
       "\n",
       "[5 rows x 51 columns]"
      ]
     },
     "execution_count": 2,
     "metadata": {},
     "output_type": "execute_result"
    }
   ],
   "source": [
    "# Import challenger and grandmaster data\n",
    "dir = 'data/'\n",
    "ranks = ['master', 'grand_master', 'challenger']\n",
    "\n",
    "merged_data = pd.DataFrame()\n",
    "\n",
    "for rank in ranks:\n",
    "    data_in = pd.read_csv(dir+rank+'.csv')\n",
    "    data_in['rank'] = rank\n",
    "    print(f\"Length of {rank} data : {len(data_in)}\")\n",
    "    merged_data = merged_data.append(data_in, ignore_index=True)\n",
    "    \n",
    "print(f\"Length of merged data : {len(merged_data)}\")\n",
    "merged_data.head()"
   ]
  },
  {
   "cell_type": "code",
   "execution_count": 3,
   "id": "011ba8ac",
   "metadata": {},
   "outputs": [
    {
     "data": {
      "text/plain": [
       "Index(['gameId', 'gameDuraton', 'blueWins', 'blueFirstBlood', 'blueFirstTower',\n",
       "       'blueFirstBaron', 'blueFirstDragon', 'blueFirstInhibitor',\n",
       "       'blueDragonKills', 'blueBaronKills', 'blueTowerKills',\n",
       "       'blueInhibitorKills', 'blueWardPlaced', 'blueWardkills', 'blueKills',\n",
       "       'blueDeath', 'blueAssist', 'blueChampionDamageDealt', 'blueTotalGold',\n",
       "       'blueTotalMinionKills', 'blueTotalLevel', 'blueAvgLevel',\n",
       "       'blueJungleMinionKills', 'blueKillingSpree', 'blueTotalHeal',\n",
       "       'blueObjectDamageDealt', 'redWins', 'redFirstBlood', 'redFirstTower',\n",
       "       'redFirstBaron', 'redFirstDragon', 'redFirstInhibitor',\n",
       "       'redDragonKills', 'redBaronKills', 'redTowerKills', 'redInhibitorKills',\n",
       "       'redWardPlaced', 'redWardkills', 'redKills', 'redDeath', 'redAssist',\n",
       "       'redChampionDamageDealt', 'redTotalGold', 'redTotalMinionKills',\n",
       "       'redTotalLevel', 'redAvgLevel', 'redJungleMinionKills',\n",
       "       'redKillingSpree', 'redTotalHeal', 'redObjectDamageDealt', 'rank'],\n",
       "      dtype='object')"
      ]
     },
     "execution_count": 3,
     "metadata": {},
     "output_type": "execute_result"
    }
   ],
   "source": [
    "merged_data.columns"
   ]
  },
  {
   "cell_type": "markdown",
   "id": "4aae8563",
   "metadata": {},
   "source": [
    "### Temps d'une partie\n",
    "> Le temps d'un partie peut impacter la victoire d'une partie car certains champions avec certains objets se retrouverons avantagés lors de parties longues avec un niveau de jeu égal. Cependant nous n'avons pas accès aux données des champions donc nous ne pouvons pas calculer le taux de victoire d'une équipe lors de partie longue.\n",
    "\n",
    "> Voici tout de même le temps moyen d'une partie"
   ]
  },
  {
   "cell_type": "code",
   "execution_count": 4,
   "id": "08759477",
   "metadata": {},
   "outputs": [
    {
     "name": "stdout",
     "output_type": "stream",
     "text": [
      "Temps moyen d'une partie au niveau Master : 23.88\n",
      "Temps moyen d'une partie au niveau Grand Master : 23.80\n",
      "Temps moyen d'une partie au niveau Challenger : 24.14\n"
     ]
    },
    {
     "data": {
      "image/png": "[encoded data removed]",
      "text/plain": [
       "<Figure size 1440x720 with 1 Axes>"
      ]
     },
     "metadata": {
      "needs_background": "light"
     },
     "output_type": "display_data"
    }
   ],
   "source": [
    "fig, ax1 = plt.subplots()\n",
    "#plt.figure(figsize=(20,10))\n",
    "fig.set_figheight(10)\n",
    "fig.set_figwidth(20)\n",
    "\n",
    "masterGameDuration = merged_data.where(merged_data['rank'] == 'master')['gameDuraton']\n",
    "grandMasterGameDuration = merged_data.where(merged_data['rank'] == 'grand_master')['gameDuraton']\n",
    "challengerGameDuration = merged_data.where(merged_data['rank'] == 'challenger')['gameDuraton']\n",
    "print(\"Temps moyen d'une partie au niveau Master : {:.2f}\".format(masterGameDuration.mean() / 60))\n",
    "print(\"Temps moyen d'une partie au niveau Grand Master : {:.2f}\".format(grandMasterGameDuration.mean() / 60))\n",
    "print(\"Temps moyen d'une partie au niveau Challenger : {:.2f}\".format(challengerGameDuration.mean() / 60))\n",
    "\n",
    "sp1 = sns.histplot(merged_data, x=\"gameDuraton\", hue=\"rank\", hue_order=['master', 'grand_master', 'challenger'], fill=True, ax=ax1)\n",
    "\n",
    "ax1.set_title(\"Temps moyen d'une partie en fonction du rang\")\n",
    "ax1.set_xlabel(\"Durée (sec)\")\n",
    "ax1.set_ylabel(\"Nombre de parties\")\n",
    "legend = ax1.get_legend()\n",
    "handles = legend.legendHandles\n",
    "legend.remove()\n",
    "ax1.legend(handles, ['Master', 'Grand Master', 'Challenger'], title='Rank')\n",
    "\n",
    "plt.show()"
   ]
  },
  {
   "cell_type": "markdown",
   "id": "7a71d3fb",
   "metadata": {},
   "source": [
    "> On trouve ici un pique à 15 min environ car les équipes peuvent déclarer forfait à partir de ce moment là. Avec l'experience, les joueurs peuvent plus ou moins déterminer la fin de la partie au bout de 15 minutes en fonction du mental de l'équipe et du niveau de jeu proposé depuis le début de la partie."
   ]
  },
  {
   "cell_type": "markdown",
   "id": "b16aa5bd",
   "metadata": {},
   "source": [
    "### Pourcentage de victoire par couleur d'équipe\n",
    "> Dans la communauté de League of Legend, une rumeur dit que l'équipe bleu à plus de chance de gagner face à l'équipe rouge. Ce qui par principe est assez stupide puisque la carte sur laquelle se déroule les parties est symétrique. à un détails près, le Baron Nashor est situé dans la jungle côté rouge et les dragons sont situés dans la jungle côté bleu. Cependant ils sont très rapidement accessible par l'autre équipe. (voir plan de la carte ci-dessous).\n",
    "\n",
    "![lol_map_jungle_bosses](lol_map_jungle_bosses.png)\n",
    "\n",
    "> Nous allons donc voir si chez les meilleurs joueurs cette théorie est justifiée."
   ]
  },
  {
   "cell_type": "code",
   "execution_count": 5,
   "id": "142c47a4",
   "metadata": {},
   "outputs": [
    {
     "data": {
      "image/png": "[encoded data removed]",
      "text/plain": [
       "<Figure size 432x288 with 1 Axes>"
      ]
     },
     "metadata": {},
     "output_type": "display_data"
    }
   ],
   "source": [
    "rates = [merged_data['blueWins'].mean(),  merged_data['redWins'].mean()]\n",
    "labels = ['Blue', 'Red']\n",
    "colors = ['#5B96C2', '#FF3633']\n",
    "\n",
    "plt.pie(rates, labels=labels, colors=colors, autopct='%1.1f%%', startangle=70, shadow=True)\n",
    "\n",
    "plt.title(\"Win Percentage by Side\")\n",
    "plt.show()"
   ]
  },
  {
   "cell_type": "markdown",
   "id": "3e60cfb3",
   "metadata": {},
   "source": [
    "> On voit très bien que le côté dans lequel vous jouez n'impacte pas du tout la fin de la partie à ce niveau de jeu."
   ]
  },
  {
   "cell_type": "markdown",
   "id": "9ff4ba74",
   "metadata": {},
   "source": [
    "### Gain d'or\n",
    "> Nous allons voir ici la moyenne d'or gagné lors d'une partie en cas de victoire et de défaite."
   ]
  },
  {
   "cell_type": "code",
   "execution_count": 6,
   "id": "4db57958",
   "metadata": {},
   "outputs": [
    {
     "data": {
      "text/plain": [
       "count    199925.000000\n",
       "mean      47927.720850\n",
       "std       16069.281604\n",
       "min        3355.000000\n",
       "25%       36540.000000\n",
       "50%       47898.000000\n",
       "75%       58824.000000\n",
       "max      134323.000000\n",
       "Name: blueTotalGold, dtype: float64"
      ]
     },
     "execution_count": 6,
     "metadata": {},
     "output_type": "execute_result"
    }
   ],
   "source": [
    "merged_data.describe()['blueTotalGold']"
   ]
  },
  {
   "cell_type": "code",
   "execution_count": 7,
   "id": "65c79c94",
   "metadata": {},
   "outputs": [
    {
     "name": "stdout",
     "output_type": "stream",
     "text": [
      "blue wins : 52030.787774572884\n",
      "red wins 52448.22036101656\n",
      "blue lose : 43890.49289974298\n",
      "red lose 43524.058817596866\n"
     ]
    },
    {
     "data": {
      "image/png": "[encoded data removed]",
      "text/plain": [
       "<Figure size 432x288 with 1 Axes>"
      ]
     },
     "metadata": {
      "needs_background": "light"
     },
     "output_type": "display_data"
    }
   ],
   "source": [
    "# set width of bars\n",
    "barWidth = 0.25\n",
    "\n",
    "blueWins = merged_data['blueWins']\n",
    "redWins = merged_data['redWins']\n",
    "print(f\"blue wins : {merged_data.where(blueWins == 1)['blueTotalGold'].mean()}\")\n",
    "print(f\"red wins {merged_data.where(redWins == 1)['redTotalGold'].mean()}\")\n",
    "\n",
    "print(f\"blue lose : {merged_data.where(blueWins == 0)['blueTotalGold'].mean()}\")\n",
    "print(f\"red lose {merged_data.where(redWins == 0)['redTotalGold'].mean()}\")\n",
    " \n",
    "# set heights of bars\n",
    "winRates = [merged_data.where(blueWins == 1)['blueTotalGold'].mean(), merged_data.where(redWins == 1)['redTotalGold'].mean()]\n",
    "loseRates = [merged_data.where(blueWins == 0)['blueTotalGold'].mean(), merged_data.where(redWins == 0)['redTotalGold'].mean()]\n",
    " \n",
    "# Set position of bar on X axis\n",
    "r1 = np.arange(len(winRates))\n",
    "r2 = [x + barWidth for x in r1]\n",
    " \n",
    "# Make the plot\n",
    "plt.bar(r1, winRates, color='#7f6d5f', width=barWidth, edgecolor='white', label='Win')\n",
    "plt.bar(r2, loseRates, color='#557f2d', width=barWidth, edgecolor='white', label='Lose')\n",
    " \n",
    "# Add xticks on the middle of the group bars\n",
    "plt.xlabel('group', fontweight='bold')\n",
    "plt.xticks([r + barWidth for r in range(len(winRates))], ['Blue', 'Red'])\n",
    " \n",
    "# Create legend & Show graphic\n",
    "plt.legend()\n",
    "plt.show()"
   ]
  },
  {
   "cell_type": "markdown",
   "id": "abad35d7",
   "metadata": {},
   "source": [
    "> On voit ici que la moyenne d'or en fin de partie est quasiment identique des deux côtés.\n",
    "\n",
    "> Avec cela on ne peut pas déterminer la fin de la partie. Il nous faudrait par contre l'avancé des golds au fur et à mesure de la partie pour définir à un temps x si vous avez plus de chance de gagner ou non en fonction de vos golds actuels."
   ]
  },
  {
   "cell_type": "markdown",
   "id": "a56ea1ea",
   "metadata": {},
   "source": [
    "> À partir de maintenant nous allons essayer de prédire une victoire pour l'équipe bleue"
   ]
  },
  {
   "cell_type": "code",
   "execution_count": 8,
   "id": "e464322b",
   "metadata": {},
   "outputs": [
    {
     "data": {
      "text/plain": [
       "<AxesSubplot:>"
      ]
     },
     "execution_count": 8,
     "metadata": {},
     "output_type": "execute_result"
    },
    {
     "data": {
      "image/png": "[encoded data removed]",
      "text/plain": [
       "<Figure size 144x504 with 1 Axes>"
      ]
     },
     "metadata": {
      "needs_background": "light"
     },
     "output_type": "display_data"
    }
   ],
   "source": [
    "merged_data.drop(list(merged_data.filter(regex = 'red')), axis=1, inplace=True)\n",
    "\n",
    "blue_corr = merged_data.corr()['blueWins'][:].sort_values(axis=0, ascending=False)\n",
    "\n",
    "# get correlations of 0.5 or more\n",
    "corr_cols = [prop for prop,corr in blue_corr.iteritems() if abs(corr)>0.5]\n",
    "plt.figure(figsize=(2,7))\n",
    "sns.heatmap(blue_corr[corr_cols].to_frame(), annot=True, cbar=False)"
   ]
  },
  {
   "cell_type": "markdown",
   "id": "d739b539",
   "metadata": {},
   "source": [
    "> On voit ici que seul 4 critères sont réellement pertinents pour définir une victoire de l'équipe bleue : \n",
    "* Le nombre de tour détruites (blueTowerKills)\n",
    "* Si l'équipe bleue a réussi à détruire un inhibiteur en premier (blueFirstInhibitor)\n",
    "* Le nombre d'inhibiteur que l'équipe bleue à détruite (blueInhibitorKills)\n",
    "* Les dégats fait par les objets de l'équipe bleue (blueObjectDamageDealt)\n",
    "\n",
    "> Nous allons donc garder que ces critères pour la suite."
   ]
  },
  {
   "cell_type": "code",
   "execution_count": 9,
   "id": "7c93b15f",
   "metadata": {},
   "outputs": [
    {
     "data": {
      "text/html": [
       "<div>\n",
       "<style scoped>\n",
       "    .dataframe tbody tr th:only-of-type {\n",
       "        vertical-align: middle;\n",
       "    }\n",
       "\n",
       "    .dataframe tbody tr th {\n",
       "        vertical-align: top;\n",
       "    }\n",
       "\n",
       "    .dataframe thead th {\n",
       "        text-align: right;\n",
       "    }\n",
       "</style>\n",
       "<table border=\"1\" class=\"dataframe\">\n",
       "  <thead>\n",
       "    <tr style=\"text-align: right;\">\n",
       "      <th></th>\n",
       "      <th>blueWins</th>\n",
       "      <th>blueTowerKills</th>\n",
       "      <th>blueFirstInhibitor</th>\n",
       "      <th>blueInhibitorKills</th>\n",
       "      <th>blueObjectDamageDealt</th>\n",
       "    </tr>\n",
       "  </thead>\n",
       "  <tbody>\n",
       "    <tr>\n",
       "      <th>0</th>\n",
       "      <td>0</td>\n",
       "      <td>4</td>\n",
       "      <td>0</td>\n",
       "      <td>0</td>\n",
       "      <td>35335</td>\n",
       "    </tr>\n",
       "    <tr>\n",
       "      <th>1</th>\n",
       "      <td>0</td>\n",
       "      <td>3</td>\n",
       "      <td>0</td>\n",
       "      <td>0</td>\n",
       "      <td>26348</td>\n",
       "    </tr>\n",
       "    <tr>\n",
       "      <th>2</th>\n",
       "      <td>1</td>\n",
       "      <td>9</td>\n",
       "      <td>1</td>\n",
       "      <td>2</td>\n",
       "      <td>64577</td>\n",
       "    </tr>\n",
       "    <tr>\n",
       "      <th>3</th>\n",
       "      <td>1</td>\n",
       "      <td>5</td>\n",
       "      <td>0</td>\n",
       "      <td>0</td>\n",
       "      <td>31303</td>\n",
       "    </tr>\n",
       "    <tr>\n",
       "      <th>4</th>\n",
       "      <td>0</td>\n",
       "      <td>3</td>\n",
       "      <td>0</td>\n",
       "      <td>0</td>\n",
       "      <td>30643</td>\n",
       "    </tr>\n",
       "  </tbody>\n",
       "</table>\n",
       "</div>"
      ],
      "text/plain": [
       "   blueWins  blueTowerKills  blueFirstInhibitor  blueInhibitorKills  \\\n",
       "0         0               4                   0                   0   \n",
       "1         0               3                   0                   0   \n",
       "2         1               9                   1                   2   \n",
       "3         1               5                   0                   0   \n",
       "4         0               3                   0                   0   \n",
       "\n",
       "   blueObjectDamageDealt  \n",
       "0                  35335  \n",
       "1                  26348  \n",
       "2                  64577  \n",
       "3                  31303  \n",
       "4                  30643  "
      ]
     },
     "execution_count": 9,
     "metadata": {},
     "output_type": "execute_result"
    }
   ],
   "source": [
    "data = pd.DataFrame(merged_data, columns=['blueWins', 'blueTowerKills', 'blueFirstInhibitor', 'blueInhibitorKills', 'blueObjectDamageDealt'])\n",
    "\n",
    "data.head()"
   ]
  },
  {
   "cell_type": "code",
   "execution_count": 10,
   "id": "bab6681e",
   "metadata": {},
   "outputs": [],
   "source": [
    "train, test = train_test_split(data, test_size=0.33, shuffle=True)"
   ]
  },
  {
   "cell_type": "code",
   "execution_count": 11,
   "id": "a4833d96",
   "metadata": {},
   "outputs": [
    {
     "data": {
      "text/plain": [
       "LogisticRegression()"
      ]
     },
     "execution_count": 11,
     "metadata": {},
     "output_type": "execute_result"
    }
   ],
   "source": [
    "logreg = LogisticRegression()\n",
    "\n",
    "X_train = train\n",
    "Y_train = np.array([i==1 for i in train['blueWins']])\n",
    "logreg.fit(X_train, Y_train)"
   ]
  },
  {
   "cell_type": "code",
   "execution_count": 12,
   "id": "a0f139d7",
   "metadata": {},
   "outputs": [],
   "source": [
    "X_test = logreg.predict(test)\n",
    "Y_test = np.array([i==1 for i in test['blueWins']])\n",
    "\n",
    "Y_pred = logreg.predict(test)"
   ]
  },
  {
   "cell_type": "code",
   "execution_count": 13,
   "id": "3d771056",
   "metadata": {},
   "outputs": [
    {
     "name": "stdout",
     "output_type": "stream",
     "text": [
      "Score de prediction : 1.0\n"
     ]
    }
   ],
   "source": [
    "print(f\"Score de prediction : {logreg.score(test, Y_test)}\")"
   ]
  },
  {
   "cell_type": "code",
   "execution_count": 14,
   "id": "2b826f30",
   "metadata": {
    "scrolled": true
   },
   "outputs": [
    {
     "name": "stdout",
     "output_type": "stream",
     "text": [
      "Rapport de classification : \n",
      "\n",
      "              precision    recall  f1-score   support\n",
      "\n",
      "       False       1.00      1.00      1.00     33109\n",
      "        True       1.00      1.00      1.00     32867\n",
      "\n",
      "    accuracy                           1.00     65976\n",
      "   macro avg       1.00      1.00      1.00     65976\n",
      "weighted avg       1.00      1.00      1.00     65976\n",
      "\n"
     ]
    }
   ],
   "source": [
    "print(f\"Rapport de classification : \\n\\n{classification_report(Y_test, Y_pred)}\")"
   ]
  },
  {
   "cell_type": "markdown",
   "id": "a1da7db3",
   "metadata": {},
   "source": [
    "> Après avoir entraîné et tester notre Regression Logistique, nous avons un taux de réussite de 80%. Ce qui est plutôt normal car certaines parties sont sûrement déterminées par les critères que nous avons exclus."
   ]
  },
  {
   "cell_type": "markdown",
   "id": "cc19ec92",
   "metadata": {},
   "source": [
    "> Nous ne comprenons pas pourquoi mais lors d'une execution globale nous obtenons une precision de 1.0, cependant si vous relancez les 5 dernières cases (10, 11, 12, 13 et 14 normalement) Vous obtiendrez un score de 80% ... Cela doit certainement dépendre du shuffle qui est fait."
   ]
  }
 ],
 "metadata": {
  "kernelspec": {
   "display_name": "Python 3 (ipykernel)",
   "language": "python",
   "name": "python3"
  },
  "language_info": {
   "codemirror_mode": {
    "name": "ipython",
    "version": 3
   },
   "file_extension": ".py",
   "mimetype": "text/x-python",
   "name": "python",
   "nbconvert_exporter": "python",
   "pygments_lexer": "ipython3",
   "version": "3.9.7"
  }
 },
 "nbformat": 4,
 "nbformat_minor": 5
}
