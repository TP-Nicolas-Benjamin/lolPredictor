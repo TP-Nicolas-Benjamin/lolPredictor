{
 "cells": [
  {
   "cell_type": "code",
   "execution_count": 15,
   "id": "f9920fbf",
   "metadata": {},
   "outputs": [],
   "source": [
    "import numpy as np\n",
    "import pandas as pd\n",
    "from sklearn.datasets import fetch_openml\n",
    "from sklearn.model_selection import train_test_split\n",
    "from sklearn.pipeline import make_pipeline\n",
    "from sklearn.preprocessing import StandardScaler\n",
    "from sklearn.linear_model import SGDClassifier\n",
    "from sklearn.ensemble import RandomForestClassifier\n",
    "from sklearn.metrics import precision_score\n",
    "\n",
    "import seaborn as sns\n",
    "import matplotlib as mpl\n",
    "import matplotlib . pyplot as plt\n",
    "\n",
    "import pprint"
   ]
  },
  {
   "cell_type": "markdown",
   "id": "32c7581d",
   "metadata": {},
   "source": [
    "# LoL Predictor\n",
    "\n",
    "## Dataset\n",
    "\n",
    "Le set de donnée que nous avons choisi est [League Of Legends High Elo Ranked Games](https://www.kaggle.com/gyejr95/league-of-legends-challenger-ranked-games2020). \n",
    "\n",
    "Ce set de donnée représente les données de 26 000 parties des meilleurs joueurs de League Of Legends, 65 000 parties des 2nds meilleurs joueurs et 100 000 parties des 3ème meilleurs.\n",
    "\n",
    "League Of Legends est un jeu de 5vs5 consistant à détruire la base de l'autre. En éliminant les joueurs adverses ou minions/objectifs, les joueurs remportent de l'expérience leur permettant d'augmenter de niveau et aussi de l'argent.\n",
    "\n",
    "En accomplissant des objectifs, une équipe a plus de chance de gagner la partie. \n",
    "\n",
    "Nous allons essayer de prédire si une équipe va gagner en fonction de son état dans la partie.\n",
    "\n",
    "Nous allons uniquement nous baser sur les \n",
    "\n",
    "## Data\n",
    "\n",
    "Une ligne de données est composé en deux parties : \n",
    "\n",
    "* Equipe bleu\n",
    "* Equipe rouge\n",
    "\n",
    "Ces deux ensembles sont composés des mêmes colonnes, ici nous allons étudier que l'équipe bleu.\n",
    "\n",
    "\n",
    "Les différentes colonnes sont les suivantes : "
   ]
  },
  {
   "cell_type": "code",
   "execution_count": 19,
   "id": "67f9f28d",
   "metadata": {
    "scrolled": false
   },
   "outputs": [
    {
     "name": "stdout",
     "output_type": "stream",
     "text": [
      "['gameId',\n",
      " 'gameDuraton',\n",
      " 'blueWins',\n",
      " 'blueFirstBlood',\n",
      " 'blueFirstTower',\n",
      " 'blueFirstBaron',\n",
      " 'blueFirstDragon',\n",
      " 'blueFirstInhibitor',\n",
      " 'blueDragonKills',\n",
      " 'blueBaronKills',\n",
      " 'blueTowerKills',\n",
      " 'blueInhibitorKills',\n",
      " 'blueWardPlaced',\n",
      " 'blueWardkills',\n",
      " 'blueKills',\n",
      " 'blueDeath',\n",
      " 'blueAssist',\n",
      " 'blueChampionDamageDealt',\n",
      " 'blueTotalGold',\n",
      " 'blueTotalMinionKills',\n",
      " 'blueTotalLevel',\n",
      " 'blueAvgLevel',\n",
      " 'blueJungleMinionKills',\n",
      " 'blueKillingSpree',\n",
      " 'blueTotalHeal',\n",
      " 'blueObjectDamageDealt']\n"
     ]
    }
   ],
   "source": [
    "# Import challenger and grandmaster data\n",
    "challenger_data = pd.read_csv('data/challenger.csv')\n",
    "grandmaster_data = pd.read_csv('data/grand_master.csv')\n",
    "# Merge the two data sets\n",
    "merged_data = pd.concat([challenger_data, grandmaster_data])\n",
    "merged_data.drop(list(merged_data.filter(regex = 'red')), axis = 1, inplace = True)\n",
    "pprint.pprint(list(merged_data.keys()))"
   ]
  },
  {
   "cell_type": "markdown",
   "id": "d7a11eae",
   "metadata": {},
   "source": [
    "Voyons une à une la pertinence de chacune des données :\n",
    "\n",
    "* gameId -> id servant à récupérer les données de la partie, inutile pour notre prédiction \n",
    "* gameDuration -> durée de la partie, n'influence pas beaucoup le résultat\n",
    "* blueFirstBlood -> la 1ère équipe effectuant le premier kill de la partie remporte une petite avance d'or.\n",
    "* blueFirstTower -> la 1ère équipe détruisant la 1ère tour veut dire qu'elle a l'avantage sur ses adversaires et de plus obtient un bonus d'or. Ce critère peut-être décisif dans le cours d'une partie.\n",
    "* blueFirstBaron -> le premier Baron Nashor apporte à l'équipe un gros avantage de push mais n'est pas essentiel à la victoire\n",
    "* blueFirstDragon -> donne un bonus de caractéristique à l'équipe le tuant. Le 1er n'est pas si important, le reste des dragons l'est plus.\n",
    "* blueFirstInhibitor -> une fois 3 tourelles détruites, l'équipe commence à arriver à la base ennemie, si elle détruise l'inhibiteur, les minions deviennent plus puissante et rajoute une pression de plus pour l'équipe ennemie.\n",
    "* blueDragonKills -> Beaucoup plus déterminant que le premier Dragon. Les bonus s'ajoutant, ils donnent un gros avantage.\n",
    "* blueBaronKills -> \n"
   ]
  },
  {
   "cell_type": "code",
   "execution_count": 20,
   "id": "c9d9ed84",
   "metadata": {},
   "outputs": [
    {
     "data": {
      "text/plain": [
       "gameId                    -0.007261\n",
       "gameDuraton               -0.013576\n",
       "blueWins                   1.000000\n",
       "blueFirstBlood             0.203778\n",
       "blueFirstTower             0.456809\n",
       "blueFirstBaron             0.363157\n",
       "blueFirstDragon            0.265396\n",
       "blueFirstInhibitor         0.646801\n",
       "blueDragonKills            0.454370\n",
       "blueBaronKills             0.350556\n",
       "blueTowerKills             0.711013\n",
       "blueInhibitorKills         0.563335\n",
       "blueWardPlaced             0.029292\n",
       "blueWardkills              0.064710\n",
       "blueKills                  0.427080\n",
       "blueDeath                 -0.424377\n",
       "blueAssist                 0.340589\n",
       "blueChampionDamageDealt    0.163875\n",
       "blueTotalGold              0.259223\n",
       "blueTotalMinionKills       0.070001\n",
       "blueTotalLevel             0.204681\n",
       "blueAvgLevel               0.204681\n",
       "blueJungleMinionKills      0.196658\n",
       "blueKillingSpree           0.397397\n",
       "blueTotalHeal              0.203508\n",
       "Name: blueWins, dtype: float64"
      ]
     },
     "execution_count": 20,
     "metadata": {},
     "output_type": "execute_result"
    }
   ],
   "source": [
    "correled_wins = merged_data.corr()['blueWins'][:-1]\n",
    "correled_wins"
   ]
  }
 ],
 "metadata": {
  "kernelspec": {
   "display_name": "Python 3 (ipykernel)",
   "language": "python",
   "name": "python3"
  },
  "language_info": {
   "codemirror_mode": {
    "name": "ipython",
    "version": 3
   },
   "file_extension": ".py",
   "mimetype": "text/x-python",
   "name": "python",
   "nbconvert_exporter": "python",
   "pygments_lexer": "ipython3",
   "version": "3.10.1"
  }
 },
 "nbformat": 4,
 "nbformat_minor": 5
}
